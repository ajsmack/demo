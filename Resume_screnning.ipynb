{
  "nbformat": 4,
  "nbformat_minor": 0,
  "metadata": {
    "colab": {
      "name": "Resume screnning.ipynb",
      "provenance": [],
      "collapsed_sections": [],
      "authorship_tag": "ABX9TyNGvLMEBc8W1P2ngTBKFIRO",
      "include_colab_link": true
    },
    "kernelspec": {
      "name": "python3",
      "display_name": "Python 3"
    },
    "language_info": {
      "name": "python"
    },
    "accelerator": "GPU"
  },
  "cells": [
    {
      "cell_type": "markdown",
      "metadata": {
        "id": "view-in-github",
        "colab_type": "text"
      },
      "source": [
        "<a href=\"https://colab.research.google.com/github/ajsmack/demo/blob/main/Resume_screnning.ipynb\" target=\"_parent\"><img src=\"https://colab.research.google.com/assets/colab-badge.svg\" alt=\"Open In Colab\"/></a>"
      ]
    },
    {
      "cell_type": "code",
      "metadata": {
        "id": "5NyZNspXjy3I"
      },
      "source": [
        "import docx2txt\n",
        "import glob\n",
        " \n",
        "text = []\n",
        "for file in glob.glob('resume/*.docx'):\n",
        "  word = docx2txt.process(file)\n",
        "  text.append(word)"
      ],
      "execution_count": null,
      "outputs": []
    },
    {
      "cell_type": "code",
      "metadata": {
        "id": "9n2nIalQCPhy"
      },
      "source": [
        "# Python3 program to extract all the numbers from a string\n",
        "import re\n",
        "  \n",
        "# Function to extract all the numbers from the given string\n",
        "def getNumbers(str):\n",
        "    array = re.findall(r'[0-9]\\d{9}', str)\n",
        "    return array\n",
        "\n",
        "def getemail(str):\n",
        "    match = re.findall('\\S+@\\S+', str) \n",
        "    return match\n",
        "\n",
        "\n",
        "# Driver code\n",
        "phone_number = []\n",
        "email_address = []\n",
        "for i in text:\n",
        "  array = getNumbers(i)\n",
        "  match = getemail(i)\n",
        "  phone_number.append(*array)\n",
        "  email_address.append(*match)\n"
      ],
      "execution_count": null,
      "outputs": []
    },
    {
      "cell_type": "code",
      "metadata": {
        "id": "oH1LoNfzYGz6"
      },
      "source": [
        "import pandas as pd\n",
        "data = pd.DataFrame(\n",
        "    {'Phone_number': phone_number,\n",
        "     'Email_address': email_address\n",
        "    })"
      ],
      "execution_count": null,
      "outputs": []
    },
    {
      "cell_type": "code",
      "metadata": {
        "colab": {
          "base_uri": "https://localhost:8080/",
          "height": 111
        },
        "id": "bX9osJAZZTez",
        "outputId": "28699f32-1271-45b4-f3c9-e7a829f8da05"
      },
      "source": [
        "data"
      ],
      "execution_count": null,
      "outputs": [
        {
          "output_type": "execute_result",
          "data": {
            "text/html": [
              "<div>\n",
              "<style scoped>\n",
              "    .dataframe tbody tr th:only-of-type {\n",
              "        vertical-align: middle;\n",
              "    }\n",
              "\n",
              "    .dataframe tbody tr th {\n",
              "        vertical-align: top;\n",
              "    }\n",
              "\n",
              "    .dataframe thead th {\n",
              "        text-align: right;\n",
              "    }\n",
              "</style>\n",
              "<table border=\"1\" class=\"dataframe\">\n",
              "  <thead>\n",
              "    <tr style=\"text-align: right;\">\n",
              "      <th></th>\n",
              "      <th>Phone_number</th>\n",
              "      <th>Email_address</th>\n",
              "    </tr>\n",
              "  </thead>\n",
              "  <tbody>\n",
              "    <tr>\n",
              "      <th>0</th>\n",
              "      <td>8329918332</td>\n",
              "      <td>gargiudasi8@gmail.com</td>\n",
              "    </tr>\n",
              "    <tr>\n",
              "      <th>1</th>\n",
              "      <td>8793667269</td>\n",
              "      <td>sahareajay7@gmail.com</td>\n",
              "    </tr>\n",
              "  </tbody>\n",
              "</table>\n",
              "</div>"
            ],
            "text/plain": [
              "  Phone_number          Email_address\n",
              "0   8329918332  gargiudasi8@gmail.com\n",
              "1   8793667269  sahareajay7@gmail.com"
            ]
          },
          "metadata": {
            "tags": []
          },
          "execution_count": 113
        }
      ]
    },
    {
      "cell_type": "code",
      "metadata": {
        "id": "I9TUte35ZXai"
      },
      "source": [
        ""
      ],
      "execution_count": null,
      "outputs": []
    },
    {
      "cell_type": "code",
      "metadata": {
        "id": "gBFxn1nSZXUZ"
      },
      "source": [
        ""
      ],
      "execution_count": null,
      "outputs": []
    },
    {
      "cell_type": "code",
      "metadata": {
        "id": "qyEd-TWPZXRc"
      },
      "source": [
        ""
      ],
      "execution_count": null,
      "outputs": []
    },
    {
      "cell_type": "code",
      "metadata": {
        "id": "YBgRZJoRZXMh"
      },
      "source": [
        ""
      ],
      "execution_count": null,
      "outputs": []
    },
    {
      "cell_type": "code",
      "metadata": {
        "id": "TMXC8OqWZXJ8"
      },
      "source": [
        ""
      ],
      "execution_count": null,
      "outputs": []
    },
    {
      "cell_type": "code",
      "metadata": {
        "colab": {
          "base_uri": "https://localhost:8080/"
        },
        "id": "4Fa6XsShAj3a",
        "outputId": "73fd8018-8345-4672-d16a-bb197d6d262b"
      },
      "source": [
        "category_lists"
      ],
      "execution_count": null,
      "outputs": [
        {
          "output_type": "execute_result",
          "data": {
            "text/plain": [
              "['data science',\n",
              " 'machine learning engineer',\n",
              " 'hr',\n",
              " 'advocate',\n",
              " 'arts',\n",
              " 'web designing',\n",
              " 'mechanical engineer',\n",
              " 'sales',\n",
              " 'health and fitness',\n",
              " 'civil engineer',\n",
              " 'java developer',\n",
              " 'business analyst',\n",
              " 'sap developer',\n",
              " 'automation testing',\n",
              " 'electrical engineering',\n",
              " 'operations managerpython developer',\n",
              " 'devops engineer',\n",
              " 'network security engineer',\n",
              " 'pmo',\n",
              " 'database',\n",
              " 'hadoop',\n",
              " 'etl developer',\n",
              " 'dotnet developer',\n",
              " 'blockchain',\n",
              " 'testing',\n",
              " 'fresher']"
            ]
          },
          "metadata": {
            "tags": []
          },
          "execution_count": 25
        }
      ]
    },
    {
      "cell_type": "code",
      "metadata": {
        "id": "8VGxk-Nk8UwB"
      },
      "source": [
        "category_lists = ['Data Science','Machine Learning Engineer','HR','Advocate', 'Arts', 'Web Designing','Mechanical Engineer','Sales','Health and fitness','Civil Engineer',\n",
        " 'Java Developer','Business Analyst','SAP Developer','Automation Testing','Electrical Engineering','Operations Manager' 'Python Developer','DevOps Engineer','Network Security Engineer',\n",
        " 'PMO','Database','Hadoop','ETL Developer','DotNet Developer','Blockchain','Testing','Fresher']\n",
        "category_list = [item.lower() for item in category_lists]"
      ],
      "execution_count": null,
      "outputs": []
    },
    {
      "cell_type": "code",
      "metadata": {
        "id": "-lXzleNjDfeS"
      },
      "source": [
        "category = list([category_list in text for category_list in category_lists])"
      ],
      "execution_count": null,
      "outputs": []
    },
    {
      "cell_type": "code",
      "metadata": {
        "colab": {
          "base_uri": "https://localhost:8080/"
        },
        "id": "yoOeCl_AAzr8",
        "outputId": "027358aa-f14e-467b-fbbd-ccb01af78c65"
      },
      "source": [
        "print(category)"
      ],
      "execution_count": null,
      "outputs": [
        {
          "output_type": "stream",
          "text": [
            "[False, False, False, False, False, False, False, False, False, False, False, False, False, False, False, False, False, False, False, False, False, False, False, False, False, False]\n"
          ],
          "name": "stdout"
        }
      ]
    },
    {
      "cell_type": "code",
      "metadata": {
        "id": "7sTYQjptAxPR"
      },
      "source": [
        "res = [i for i, val in enumerate(category) if val]"
      ],
      "execution_count": null,
      "outputs": []
    },
    {
      "cell_type": "code",
      "metadata": {
        "colab": {
          "base_uri": "https://localhost:8080/"
        },
        "id": "s-W5ZwxF8Z6h",
        "outputId": "e0b2fe17-b9ee-45bf-b31a-8cbde1b0f1d6"
      },
      "source": [
        "res"
      ],
      "execution_count": null,
      "outputs": [
        {
          "output_type": "execute_result",
          "data": {
            "text/plain": [
              "[]"
            ]
          },
          "metadata": {
            "tags": []
          },
          "execution_count": 79
        }
      ]
    },
    {
      "cell_type": "code",
      "metadata": {
        "id": "IMNI4xnn-Oah"
      },
      "source": [
        "selected_elements = []\n",
        "for index in res:\n",
        "  selected_elements.append(category_list[index])"
      ],
      "execution_count": null,
      "outputs": []
    },
    {
      "cell_type": "code",
      "metadata": {
        "id": "shMKLGPQ34_i"
      },
      "source": [
        "import pandas as pd\n",
        "data = pd.DataFrame(\n",
        "    {'Resume': text\n",
        "    })"
      ],
      "execution_count": null,
      "outputs": []
    },
    {
      "cell_type": "code",
      "metadata": {
        "id": "LtJUQ4d3mHq-"
      },
      "source": [
        "import docx\n",
        "def getText(filename):\n",
        "  doc = docx.Document(filename)\n",
        "  fullText = []\n",
        "  for para in doc.paragraphs.text:\n",
        "    fullText.append(para)\n",
        "  return '\\n'.join(fullText)"
      ],
      "execution_count": null,
      "outputs": []
    },
    {
      "cell_type": "code",
      "metadata": {
        "colab": {
          "base_uri": "https://localhost:8080/",
          "height": 111
        },
        "id": "p138-y2G8ClW",
        "outputId": "bb0b50d4-4637-46eb-80da-48933307fbfd"
      },
      "source": [
        "data"
      ],
      "execution_count": null,
      "outputs": [
        {
          "output_type": "execute_result",
          "data": {
            "text/html": [
              "<div>\n",
              "<style scoped>\n",
              "    .dataframe tbody tr th:only-of-type {\n",
              "        vertical-align: middle;\n",
              "    }\n",
              "\n",
              "    .dataframe tbody tr th {\n",
              "        vertical-align: top;\n",
              "    }\n",
              "\n",
              "    .dataframe thead th {\n",
              "        text-align: right;\n",
              "    }\n",
              "</style>\n",
              "<table border=\"1\" class=\"dataframe\">\n",
              "  <thead>\n",
              "    <tr style=\"text-align: right;\">\n",
              "      <th></th>\n",
              "      <th>Resume</th>\n",
              "    </tr>\n",
              "  </thead>\n",
              "  <tbody>\n",
              "    <tr>\n",
              "      <th>0</th>\n",
              "      <td>Gargi Udasi\\tContact. No: 8329918332\\n\\n\\tMach...</td>\n",
              "    </tr>\n",
              "    <tr>\n",
              "      <th>1</th>\n",
              "      <td>RESUME\\n\\nAJAY SAHARE\\t                       ...</td>\n",
              "    </tr>\n",
              "  </tbody>\n",
              "</table>\n",
              "</div>"
            ],
            "text/plain": [
              "                                              Resume\n",
              "0  Gargi Udasi\\tContact. No: 8329918332\\n\\n\\tMach...\n",
              "1  RESUME\\n\\nAJAY SAHARE\\t                       ..."
            ]
          },
          "metadata": {
            "tags": []
          },
          "execution_count": 16
        }
      ]
    },
    {
      "cell_type": "code",
      "metadata": {
        "id": "qpoz3ZXd8D1C"
      },
      "source": [
        "s = data.to_csv('data.csv')"
      ],
      "execution_count": null,
      "outputs": []
    },
    {
      "cell_type": "code",
      "metadata": {
        "id": "nrwAY1duLWfm"
      },
      "source": [
        "import docx\n",
        "def getText(filename):\n",
        "  doc = docx.Document(filename)\n",
        "  fullText = []\n",
        "  for para in doc.paragraphs:\n",
        "    fullText.append(para.text)\n",
        "  return '\\n'.join(fullText)"
      ],
      "execution_count": null,
      "outputs": []
    },
    {
      "cell_type": "code",
      "metadata": {
        "colab": {
          "base_uri": "https://localhost:8080/",
          "height": 168
        },
        "id": "q3Lk7fPy3Ir4",
        "outputId": "f176a761-c3e2-4233-f706-3c5335d103e6"
      },
      "source": [
        "s"
      ],
      "execution_count": null,
      "outputs": [
        {
          "output_type": "error",
          "ename": "AttributeError",
          "evalue": "ignored",
          "traceback": [
            "\u001b[0;31m---------------------------------------------------------------------------\u001b[0m",
            "\u001b[0;31mAttributeError\u001b[0m                            Traceback (most recent call last)",
            "\u001b[0;32m<ipython-input-20-b8f0edc4ae9a>\u001b[0m in \u001b[0;36m<module>\u001b[0;34m()\u001b[0m\n\u001b[0;32m----> 1\u001b[0;31m \u001b[0ms\u001b[0m\u001b[0;34m.\u001b[0m\u001b[0mdownload\u001b[0m\u001b[0;34m(\u001b[0m\u001b[0;34m)\u001b[0m\u001b[0;34m\u001b[0m\u001b[0;34m\u001b[0m\u001b[0m\n\u001b[0m",
            "\u001b[0;31mAttributeError\u001b[0m: 'NoneType' object has no attribute 'download'"
          ]
        }
      ]
    },
    {
      "cell_type": "code",
      "metadata": {
        "id": "dVq1ZkQF3Vd9"
      },
      "source": [
        ""
      ],
      "execution_count": null,
      "outputs": []
    }
  ]
}